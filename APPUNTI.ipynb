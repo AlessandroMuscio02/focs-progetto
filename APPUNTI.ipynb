{
 "cells": [
  {
   "cell_type": "code",
   "execution_count": null,
   "id": "ca0a150c-cc31-476d-9ee0-d9c19193eb9a",
   "metadata": {},
   "outputs": [],
   "source": [
    "#APPUNTI"
   ]
  },
  {
   "cell_type": "markdown",
   "id": "06c0d465-79fd-4906-9c59-92bb5d35556f",
   "metadata": {},
   "source": [
    "**ISTRUZIONE OS**\n",
    "\n",
    "L'istruzione import os in Python serve a importare il modulo os all'interno del tuo script o della tua sessione interattiva. Il modulo os fornisce una vasta gamma di funzionalità legate al sistema operativo, consentendo ai programmatori Python di interagire con il sistema operativo sottostante in modo portabile (cioè, indipendentemente dal sistema operativo in uso).\n",
    "\n",
    "Ecco alcuni esempi di cosa puoi fare con il modulo os:\n",
    "\n",
    "Navigare nel file system: Puoi utilizzare funzioni come os.listdir(), os.chdir(), os.mkdir(), os.makedirs(), os.rmdir() per elencare i file di una directory, cambiare la directory corrente, creare nuove directory, e rimuoverle.\n",
    "\n",
    "Manipolare percorsi di file: Con os.path (una sotto-libreria di os), puoi eseguire operazioni come la costruzione di percorsi di file in modo sicuro con os.path.join(), verificare l'esistenza di un file o directory con os.path.exists(), dividere e ottenere parti specifiche di un percorso con os.path.split(), e molte altre.\n",
    "\n",
    "Ottenere informazioni sull'ambiente: Puoi usare os.environ per accedere alle variabili di ambiente del tuo sistema e os.getenv() per ottenere il valore di specifiche variabili di ambiente.\n",
    "\n",
    "Eseguire comandi del sistema operativo: Funzioni come os.system() permettono di eseguire comandi nel terminale o nel prompt dei comandi direttamente dal tuo script Python.\n",
    "\n",
    "In generale, il modulo os è estremamente utile per scrivere codice Python che necessita di interagire con il sistema operativo per gestire file, directory, variabili di ambiente e altri aspetti legati al sistema operativo. Grazie alla sua portabilità, il codice scritto con os può spesso essere eseguito su diversi sistemi operativi senza modifiche, rendendolo uno strumento prezioso per lo sviluppo di applicazioni cross-platform."
   ]
  },
  {
   "cell_type": "markdown",
   "id": "228d8c37-2043-4728-9562-4798a03989b7",
   "metadata": {},
   "source": [
    "**VARIABILI OBJECT**\n",
    "\n",
    "\n",
    "Le tipologie float, int, e object nel contesto di un DataFrame pandas indicano il tipo di dati (dtype) contenuto in ciascuna colonna. Questi tipi di dati sono fondamentali per capire la natura delle informazioni contenute nel DataFrame e per determinare quali operazioni possono essere eseguite su di esse. Ecco una breve spiegazione:\n",
    "\n",
    "**float**\n",
    "Il tipo float indica un numero con la virgola mobile, cioè un numero che può contenere cifre decimali. È utilizzato per rappresentare valori numerici che necessitano di precisione decimale, come misurazioni o calcoli che possono produrre frazioni. Ad esempio, drivenDistance e energyConsumption sono colonne che probabilmente contengono valori decimali per indicare la distanza percorsa (in chilometri o miglia) e il consumo energetico (in wattora o un'altra unità di misura energetica), rispettivamente.\n",
    "\n",
    "**int**\n",
    "Il tipo int rappresenta numeri interi, cioè numeri senza parte decimale. Viene usato per dati numerici che non richiedono o non hanno frazioni, come conteggi o identificativi numerici. Ad esempio, busNumber e itcs_numberOfPassengers_min sono colonne che utilizzano numeri interi per identificare il numero dell'autobus e il numero minimo di passeggeri registrati, rispettivamente.\n",
    "\n",
    "**object**\n",
    "Il tipo object in pandas è un tipo generico che di solito rappresenta testo o valori misti (numeri e testo nella stessa colonna, ad esempio). Colonne con dati di tipo object sono spesso utilizzate per memorizzare stringhe o dati categorici. Ad esempio, name e busRoute sono colonne che probabilmente contengono testo, come il nome di un viaggio o il codice/numero di una rotta di autobus."
   ]
  },
  {
   "cell_type": "markdown",
   "id": "2b059c45-4223-4708-8555-b3ede0457a73",
   "metadata": {},
   "source": [
    "**glob**\n",
    "Il modulo glob è specificamente progettato per trovare tutti i percorsi di file che corrispondono a un certo pattern specificato, noto come \"globbing\". A differenza di os, che può essere usato per un'ampia gamma di interazioni con il sistema operativo, glob è focalizzato sulla ricerca di file che soddisfano specifici pattern di nome. Ad esempio, glob.glob('*.txt') restituirà un elenco di tutti i file .txt nella directory corrente. Il modulo glob supporta i pattern come * per qualsiasi sequenza di caratteri e ? per un singolo carattere, rendendolo molto utile per filtrare i file per nome in una singola operazione.\n",
    "\n",
    "**Quando si usa os vs glob**\n",
    "Usa os quando hai bisogno di interagire con il sistema operativo per ottenere informazioni sul file system, modificare i percorsi dei file, lavorare con le variabili di ambiente, e per altre funzionalità generali di interazione con il sistema operativo.\n",
    "Usa glob quando hai bisogno di cercare file che corrispondono a specifici pattern di nome in una directory. È particolarmente utile per casi in cui si desidera lavorare solo con un sottoinsieme di file che soddisfano determinati criteri di denominazione."
   ]
  },
  {
   "cell_type": "code",
   "execution_count": null,
   "id": "cb3407af-9366-4877-920f-5eb04c67fdff",
   "metadata": {},
   "outputs": [],
   "source": []
  }
 ],
 "metadata": {
  "kernelspec": {
   "display_name": "Python 3 (ipykernel)",
   "language": "python",
   "name": "python3"
  },
  "language_info": {
   "codemirror_mode": {
    "name": "ipython",
    "version": 3
   },
   "file_extension": ".py",
   "mimetype": "text/x-python",
   "name": "python",
   "nbconvert_exporter": "python",
   "pygments_lexer": "ipython3",
   "version": "3.11.5"
  }
 },
 "nbformat": 4,
 "nbformat_minor": 5
}
